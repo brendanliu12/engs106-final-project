{
 "cells": [
  {
   "cell_type": "code",
   "id": "initial_id",
   "metadata": {
    "collapsed": true,
    "ExecuteTime": {
     "end_time": "2025-02-18T22:46:05.003152Z",
     "start_time": "2025-02-18T22:46:04.654672Z"
    }
   },
   "source": [
    "import random\n",
    "\n",
    "import kagglehub\n",
    "import pandas as pd\n",
    "import numpy as np\n",
    "from sklearn.model_selection import train_test_split\n",
    "from sklearn.model_selection import cross_val_score\n",
    "from sklearn.model_selection import StratifiedKFold\n",
    "from sklearn.metrics import classification_report\n",
    "from sklearn.metrics import confusion_matrix\n",
    "from sklearn.metrics import accuracy_score\n",
    "from sklearn.linear_model import LogisticRegression\n",
    "from sklearn.tree import DecisionTreeClassifier\n",
    "from sklearn.neighbors import KNeighborsClassifier\n",
    "from sklearn.discriminant_analysis import LinearDiscriminantAnalysis\n",
    "from sklearn.naive_bayes import GaussianNB\n",
    "from sklearn.svm import SVC\n",
    "\n"
   ],
   "outputs": [],
   "execution_count": 19
  },
  {
   "metadata": {
    "ExecuteTime": {
     "end_time": "2025-02-18T22:52:23.620353Z",
     "start_time": "2025-02-18T22:52:23.424579Z"
    }
   },
   "cell_type": "code",
   "source": [
    "# Download latest version\n",
    "path = kagglehub.dataset_download(\"ruchikakumbhar/obesity-prediction\")\n",
    "\n",
    "print(\"Path to dataset files:\", path)\n",
    "df = pd.read_csv(path + \"/Obesity Prediction.csv\")\n",
    "df.head()\n",
    "original_df = df.copy()"
   ],
   "id": "c4b5af0b78c0354",
   "outputs": [
    {
     "name": "stdout",
     "output_type": "stream",
     "text": [
      "Warning: Looks like you're using an outdated `kagglehub` version, please consider updating (latest version: 0.3.8)\n",
      "Path to dataset files: /Users/hendrata/.cache/kagglehub/datasets/ruchikakumbhar/obesity-prediction/versions/1\n"
     ]
    }
   ],
   "execution_count": 29
  },
  {
   "metadata": {
    "ExecuteTime": {
     "end_time": "2025-02-18T23:08:31.272768Z",
     "start_time": "2025-02-18T23:08:31.231430Z"
    }
   },
   "cell_type": "code",
   "source": [
    "df = original_df.copy()\n",
    "print(\"df shape: \", df.shape)\n",
    "\n",
    "# Data massaging:\n",
    "# Gender: 0 = Female, 1 = Male\n",
    "df['Gender'] = df['Gender'].map({'Female': 0, 'Male': 1})\n",
    "\n",
    "# Family history, FAVC, SMOKE, SCC: 0 = no, 1 = yes\n",
    "yes_no_columns = ['family_history', 'FAVC', 'SMOKE', 'SCC']\n",
    "for col in yes_no_columns:\n",
    "    df[col] = df[col].map({'no': 0, 'yes': 1})\n",
    "\n",
    "# CAEC, CALC: 0 = no, 1 = Sometimes, 2 = Frequently, 3 = Always\n",
    "frequency_columns = ['CAEC', 'CALC']\n",
    "for col in frequency_columns:\n",
    "    df[col] = df[col].map({'no': 0, 'Sometimes': 1, 'Frequently': 2, 'Always': 3})\n",
    "\n",
    "# MTRANS: 0 = Public_Transportation, 1 = Walking, 2 = Automobile, 3 = Motorbike, 4 = Bike\n",
    "df['MTRANS'] = df['MTRANS'].map({'Public_Transportation': 0, 'Walking': 1, 'Automobile': 2, 'Motorbike': 3, 'Bike': 4})\n",
    "\n",
    "# Obesity\n",
    "df['Obesity'] = df['Obesity'].map({'Insufficient_Weight': 0, 'Normal_Weight': 1, 'Overweight_Level_I': 2,\n",
    "                                   'Overweight_Level_II': 3, 'Obesity_Type_I': 4, 'Obesity_Type_II': 5,\n",
    "                                   'Obesity_Type_III': 6})\n",
    "\n",
    "# Now df should be all numeric\n",
    "df.head()\n",
    "#print(df['Obesity'].unique())"
   ],
   "id": "b72994f734721b1c",
   "outputs": [
    {
     "name": "stdout",
     "output_type": "stream",
     "text": [
      "df shape:  (2111, 17)\n"
     ]
    },
    {
     "data": {
      "text/plain": [
       "   Gender   Age  Height  Weight  family_history  FAVC  FCVC  NCP  CAEC  SMOKE  \\\n",
       "0       0  21.0    1.62    64.0               1     0   2.0  3.0     1      0   \n",
       "1       0  21.0    1.52    56.0               1     0   3.0  3.0     1      1   \n",
       "2       1  23.0    1.80    77.0               1     0   2.0  3.0     1      0   \n",
       "3       1  27.0    1.80    87.0               0     0   3.0  3.0     1      0   \n",
       "4       1  22.0    1.78    89.8               0     0   2.0  1.0     1      0   \n",
       "\n",
       "   CH2O  SCC  FAF  TUE  CALC  MTRANS  Obesity  \n",
       "0   2.0    0  0.0  1.0     0       0        1  \n",
       "1   3.0    1  3.0  0.0     1       0        1  \n",
       "2   2.0    0  2.0  1.0     2       0        1  \n",
       "3   2.0    0  2.0  0.0     2       1        2  \n",
       "4   2.0    0  0.0  0.0     1       0        3  "
      ],
      "text/html": [
       "<div>\n",
       "<style scoped>\n",
       "    .dataframe tbody tr th:only-of-type {\n",
       "        vertical-align: middle;\n",
       "    }\n",
       "\n",
       "    .dataframe tbody tr th {\n",
       "        vertical-align: top;\n",
       "    }\n",
       "\n",
       "    .dataframe thead th {\n",
       "        text-align: right;\n",
       "    }\n",
       "</style>\n",
       "<table border=\"1\" class=\"dataframe\">\n",
       "  <thead>\n",
       "    <tr style=\"text-align: right;\">\n",
       "      <th></th>\n",
       "      <th>Gender</th>\n",
       "      <th>Age</th>\n",
       "      <th>Height</th>\n",
       "      <th>Weight</th>\n",
       "      <th>family_history</th>\n",
       "      <th>FAVC</th>\n",
       "      <th>FCVC</th>\n",
       "      <th>NCP</th>\n",
       "      <th>CAEC</th>\n",
       "      <th>SMOKE</th>\n",
       "      <th>CH2O</th>\n",
       "      <th>SCC</th>\n",
       "      <th>FAF</th>\n",
       "      <th>TUE</th>\n",
       "      <th>CALC</th>\n",
       "      <th>MTRANS</th>\n",
       "      <th>Obesity</th>\n",
       "    </tr>\n",
       "  </thead>\n",
       "  <tbody>\n",
       "    <tr>\n",
       "      <th>0</th>\n",
       "      <td>0</td>\n",
       "      <td>21.0</td>\n",
       "      <td>1.62</td>\n",
       "      <td>64.0</td>\n",
       "      <td>1</td>\n",
       "      <td>0</td>\n",
       "      <td>2.0</td>\n",
       "      <td>3.0</td>\n",
       "      <td>1</td>\n",
       "      <td>0</td>\n",
       "      <td>2.0</td>\n",
       "      <td>0</td>\n",
       "      <td>0.0</td>\n",
       "      <td>1.0</td>\n",
       "      <td>0</td>\n",
       "      <td>0</td>\n",
       "      <td>1</td>\n",
       "    </tr>\n",
       "    <tr>\n",
       "      <th>1</th>\n",
       "      <td>0</td>\n",
       "      <td>21.0</td>\n",
       "      <td>1.52</td>\n",
       "      <td>56.0</td>\n",
       "      <td>1</td>\n",
       "      <td>0</td>\n",
       "      <td>3.0</td>\n",
       "      <td>3.0</td>\n",
       "      <td>1</td>\n",
       "      <td>1</td>\n",
       "      <td>3.0</td>\n",
       "      <td>1</td>\n",
       "      <td>3.0</td>\n",
       "      <td>0.0</td>\n",
       "      <td>1</td>\n",
       "      <td>0</td>\n",
       "      <td>1</td>\n",
       "    </tr>\n",
       "    <tr>\n",
       "      <th>2</th>\n",
       "      <td>1</td>\n",
       "      <td>23.0</td>\n",
       "      <td>1.80</td>\n",
       "      <td>77.0</td>\n",
       "      <td>1</td>\n",
       "      <td>0</td>\n",
       "      <td>2.0</td>\n",
       "      <td>3.0</td>\n",
       "      <td>1</td>\n",
       "      <td>0</td>\n",
       "      <td>2.0</td>\n",
       "      <td>0</td>\n",
       "      <td>2.0</td>\n",
       "      <td>1.0</td>\n",
       "      <td>2</td>\n",
       "      <td>0</td>\n",
       "      <td>1</td>\n",
       "    </tr>\n",
       "    <tr>\n",
       "      <th>3</th>\n",
       "      <td>1</td>\n",
       "      <td>27.0</td>\n",
       "      <td>1.80</td>\n",
       "      <td>87.0</td>\n",
       "      <td>0</td>\n",
       "      <td>0</td>\n",
       "      <td>3.0</td>\n",
       "      <td>3.0</td>\n",
       "      <td>1</td>\n",
       "      <td>0</td>\n",
       "      <td>2.0</td>\n",
       "      <td>0</td>\n",
       "      <td>2.0</td>\n",
       "      <td>0.0</td>\n",
       "      <td>2</td>\n",
       "      <td>1</td>\n",
       "      <td>2</td>\n",
       "    </tr>\n",
       "    <tr>\n",
       "      <th>4</th>\n",
       "      <td>1</td>\n",
       "      <td>22.0</td>\n",
       "      <td>1.78</td>\n",
       "      <td>89.8</td>\n",
       "      <td>0</td>\n",
       "      <td>0</td>\n",
       "      <td>2.0</td>\n",
       "      <td>1.0</td>\n",
       "      <td>1</td>\n",
       "      <td>0</td>\n",
       "      <td>2.0</td>\n",
       "      <td>0</td>\n",
       "      <td>0.0</td>\n",
       "      <td>0.0</td>\n",
       "      <td>1</td>\n",
       "      <td>0</td>\n",
       "      <td>3</td>\n",
       "    </tr>\n",
       "  </tbody>\n",
       "</table>\n",
       "</div>"
      ]
     },
     "execution_count": 45,
     "metadata": {},
     "output_type": "execute_result"
    }
   ],
   "execution_count": 45
  },
  {
   "metadata": {
    "ExecuteTime": {
     "end_time": "2025-02-18T23:09:22.299975Z",
     "start_time": "2025-02-18T23:09:22.221768Z"
    }
   },
   "cell_type": "code",
   "source": [
    "# Describe the data sets to get an insight\n",
    "print(df.describe())"
   ],
   "id": "3ab314805f475641",
   "outputs": [
    {
     "name": "stdout",
     "output_type": "stream",
     "text": [
      "            Gender          Age       Height       Weight  family_history  \\\n",
      "count  2111.000000  2111.000000  2111.000000  2111.000000     2111.000000   \n",
      "mean      0.505921    24.312600     1.701677    86.586058        0.817622   \n",
      "std       0.500083     6.345968     0.093305    26.191172        0.386247   \n",
      "min       0.000000    14.000000     1.450000    39.000000        0.000000   \n",
      "25%       0.000000    19.947192     1.630000    65.473343        1.000000   \n",
      "50%       1.000000    22.777890     1.700499    83.000000        1.000000   \n",
      "75%       1.000000    26.000000     1.768464   107.430682        1.000000   \n",
      "max       1.000000    61.000000     1.980000   173.000000        1.000000   \n",
      "\n",
      "              FAVC         FCVC          NCP         CAEC        SMOKE  \\\n",
      "count  2111.000000  2111.000000  2111.000000  2111.000000  2111.000000   \n",
      "mean      0.883941     2.419043     2.685628     1.140692     0.020843   \n",
      "std       0.320371     0.533927     0.778039     0.468543     0.142893   \n",
      "min       0.000000     1.000000     1.000000     0.000000     0.000000   \n",
      "25%       1.000000     2.000000     2.658738     1.000000     0.000000   \n",
      "50%       1.000000     2.385502     3.000000     1.000000     0.000000   \n",
      "75%       1.000000     3.000000     3.000000     1.000000     0.000000   \n",
      "max       1.000000     3.000000     4.000000     3.000000     1.000000   \n",
      "\n",
      "              CH2O          SCC          FAF          TUE         CALC  \\\n",
      "count  2111.000000  2111.000000  2111.000000  2111.000000  2111.000000   \n",
      "mean      2.008011     0.045476     1.010298     0.657866     0.731407   \n",
      "std       0.612953     0.208395     0.850592     0.608927     0.515498   \n",
      "min       1.000000     0.000000     0.000000     0.000000     0.000000   \n",
      "25%       1.584812     0.000000     0.124505     0.000000     0.000000   \n",
      "50%       2.000000     0.000000     1.000000     0.625350     1.000000   \n",
      "75%       2.477420     0.000000     1.666678     1.000000     1.000000   \n",
      "max       3.000000     1.000000     3.000000     2.000000     3.000000   \n",
      "\n",
      "            MTRANS      Obesity  \n",
      "count  2111.000000  2111.000000  \n",
      "mean      0.488394     3.112269  \n",
      "std       0.868475     1.985062  \n",
      "min       0.000000     0.000000  \n",
      "25%       0.000000     1.000000  \n",
      "50%       0.000000     3.000000  \n",
      "75%       1.000000     5.000000  \n",
      "max       4.000000     6.000000  \n"
     ]
    }
   ],
   "execution_count": 46
  },
  {
   "metadata": {
    "ExecuteTime": {
     "end_time": "2025-02-18T23:10:04.261882Z",
     "start_time": "2025-02-18T23:10:04.238499Z"
    }
   },
   "cell_type": "code",
   "source": [
    "print(\"df shape: \", df.shape)\n",
    "random.seed(12345)\n",
    "\n",
    "target_column = \"Obesity\"\n",
    "x_data = df[df.columns[:-1]]\n",
    "y_data = df[target_column]\n",
    "\n",
    "num_of_samples = df.shape[0]\n",
    "# training samples: 80% of the samples\n",
    "num_of_training_samples = (int)(num_of_samples * 0.8)\n",
    "num_of_test_samples = num_of_samples - num_of_training_samples\n",
    "x_train, x_test, y_train, y_test = train_test_split(x_data, y_data, test_size=num_of_test_samples)\n",
    "\n",
    "print(\"x_train shape\", x_train.shape)\n",
    "print(\"x_test shape\", x_test.shape)\n",
    "print(\"y_train shape\", y_train.shape)\n",
    "print(\"y_test shape\", y_test.shape)\n"
   ],
   "id": "9ed9f4c5faabc483",
   "outputs": [
    {
     "name": "stdout",
     "output_type": "stream",
     "text": [
      "df shape:  (2111, 17)\n",
      "x_train shape (1688, 16)\n",
      "x_test shape (423, 16)\n",
      "y_train shape (1688,)\n",
      "y_test shape (423,)\n"
     ]
    }
   ],
   "execution_count": 47
  },
  {
   "metadata": {},
   "cell_type": "markdown",
   "source": [
    "Defining the models\n",
    "(eventually we'll add our own models here. These ones are just the ones I took off the internet)"
   ],
   "id": "35dec5276fdc17cf"
  },
  {
   "metadata": {
    "ExecuteTime": {
     "end_time": "2025-02-18T23:19:00.522240Z",
     "start_time": "2025-02-18T23:19:00.513207Z"
    }
   },
   "cell_type": "code",
   "source": [
    "# This is where you add your own models with fine tuning\n",
    "\n",
    "models = []\n",
    "\n",
    "# Samples from the internet, feel free to use these as starting points\n",
    "# models.append(('LR', LogisticRegression(solver='liblinear', multi_class='ovr')))\n",
    "# models.append(('LDA', LinearDiscriminantAnalysis()))\n",
    "# models.append(('KNN', KNeighborsClassifier()))\n",
    "# models.append(('CART', DecisionTreeClassifier()))\n",
    "# models.append(('NB', GaussianNB()))\n",
    "# models.append(('SVM', SVC(gamma='auto')))\n",
    "\n",
    "models.append(('Hendrata_SVM_degree2', SVC(gamma='auto', degree=2)))\n",
    "models.append(('Hendrata_SVM_degree3', SVC(gamma='scale', degree=3)))\n",
    "\n",
    "print(models)\n"
   ],
   "id": "8149a157917c359e",
   "outputs": [
    {
     "name": "stdout",
     "output_type": "stream",
     "text": [
      "[('Hendrata_SVM_degree2', SVC(degree=2, gamma='auto')), ('Hendrata_SVM_degree3', SVC())]\n"
     ]
    }
   ],
   "execution_count": 51
  },
  {
   "metadata": {},
   "cell_type": "code",
   "outputs": [],
   "execution_count": null,
   "source": "# Brendan to add his own models here",
   "id": "28c4dec85a908611"
  },
  {
   "metadata": {},
   "cell_type": "code",
   "outputs": [],
   "execution_count": null,
   "source": "# Joseph to add his own models here",
   "id": "2ebac0cd198f58d5"
  },
  {
   "metadata": {
    "ExecuteTime": {
     "end_time": "2025-02-18T23:19:08.395435Z",
     "start_time": "2025-02-18T23:19:05.385413Z"
    }
   },
   "cell_type": "code",
   "outputs": [
    {
     "name": "stdout",
     "output_type": "stream",
     "text": [
      "Hendrata_SVM_degree2: 0.885084 (0.015837)\n",
      "Hendrata_SVM_degree3: 0.537905 (0.036313)\n"
     ]
    }
   ],
   "execution_count": 52,
   "source": [
    "\n",
    "# evaluate each model in turn\n",
    "results = []\n",
    "names = []\n",
    "for name, model in models:\n",
    "    kfold = StratifiedKFold(n_splits=10, random_state=1, shuffle=True)\n",
    "    cv_results = cross_val_score(model, x_train, y_train, cv=kfold, scoring='accuracy')\n",
    "    results.append(cv_results)\n",
    "    names.append(name)\n",
    "    print('%s: %f (%f)' % (name, cv_results.mean(), cv_results.std()))"
   ],
   "id": "aa4d17a39a0e3d97"
  },
  {
   "metadata": {},
   "cell_type": "code",
   "outputs": [],
   "execution_count": null,
   "source": "# Print more analytics here",
   "id": "11680ad63334d780"
  }
 ],
 "metadata": {
  "kernelspec": {
   "display_name": "Python 3",
   "language": "python",
   "name": "python3"
  },
  "language_info": {
   "codemirror_mode": {
    "name": "ipython",
    "version": 2
   },
   "file_extension": ".py",
   "mimetype": "text/x-python",
   "name": "python",
   "nbconvert_exporter": "python",
   "pygments_lexer": "ipython2",
   "version": "2.7.6"
  }
 },
 "nbformat": 4,
 "nbformat_minor": 5
}
