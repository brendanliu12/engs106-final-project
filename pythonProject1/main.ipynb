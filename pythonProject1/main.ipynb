{
 "cells": [
  {
   "cell_type": "code",
   "id": "initial_id",
   "metadata": {
    "collapsed": true,
    "ExecuteTime": {
     "end_time": "2025-02-24T04:27:32.585140Z",
     "start_time": "2025-02-24T04:27:32.578940Z"
    }
   },
   "source": [
    "import random\n",
    "\n",
    "import kagglehub\n",
    "import pandas as pd\n",
    "import numpy as np\n",
    "from sklearn.model_selection import train_test_split, cross_validate\n",
    "from sklearn.model_selection import cross_val_score, cross_validate\n",
    "from sklearn.model_selection import StratifiedKFold\n",
    "from sklearn.metrics import classification_report, mean_absolute_error\n",
    "from sklearn.metrics import confusion_matrix\n",
    "from sklearn.metrics import accuracy_score, root_mean_squared_error\n",
    "from sklearn.linear_model import LogisticRegression\n",
    "from sklearn.tree import DecisionTreeClassifier\n",
    "from sklearn.neighbors import KNeighborsClassifier\n",
    "from sklearn.discriminant_analysis import LinearDiscriminantAnalysis\n",
    "from sklearn.naive_bayes import GaussianNB\n",
    "from sklearn.svm import SVC\n",
    "\n"
   ],
   "outputs": [],
   "execution_count": 33
  },
  {
   "metadata": {
    "ExecuteTime": {
     "end_time": "2025-02-24T03:56:56.587550Z",
     "start_time": "2025-02-24T03:56:56.023563Z"
    }
   },
   "cell_type": "code",
   "source": [
    "# Download latest version\n",
    "path = kagglehub.dataset_download(\"ruchikakumbhar/obesity-prediction\")\n",
    "\n",
    "print(\"Path to dataset files:\", path)\n",
    "df = pd.read_csv(path + \"/Obesity Prediction.csv\")\n",
    "df.head()\n",
    "original_df = df.copy()"
   ],
   "id": "c4b5af0b78c0354",
   "outputs": [
    {
     "name": "stdout",
     "output_type": "stream",
     "text": [
      "Warning: Looks like you're using an outdated `kagglehub` version, please consider updating (latest version: 0.3.8)\n",
      "Path to dataset files: /Users/hendrata/.cache/kagglehub/datasets/ruchikakumbhar/obesity-prediction/versions/1\n"
     ]
    }
   ],
   "execution_count": 2
  },
  {
   "metadata": {
    "ExecuteTime": {
     "end_time": "2025-02-24T03:57:02.055108Z",
     "start_time": "2025-02-24T03:57:02.011588Z"
    }
   },
   "cell_type": "code",
   "source": [
    "df = original_df.copy()\n",
    "print(\"df shape: \", df.shape)\n",
    "\n",
    "# Data massaging:\n",
    "# Gender: 0 = Female, 1 = Male\n",
    "df['Gender'] = df['Gender'].map({'Female': 0, 'Male': 1})\n",
    "\n",
    "# Family history, FAVC, SMOKE, SCC: 0 = no, 1 = yes\n",
    "yes_no_columns = ['family_history', 'FAVC', 'SMOKE', 'SCC']\n",
    "for col in yes_no_columns:\n",
    "    df[col] = df[col].map({'no': 0, 'yes': 1})\n",
    "\n",
    "# CAEC, CALC: 0 = no, 1 = Sometimes, 2 = Frequently, 3 = Always\n",
    "frequency_columns = ['CAEC', 'CALC']\n",
    "for col in frequency_columns:\n",
    "    df[col] = df[col].map({'no': 0, 'Sometimes': 1, 'Frequently': 2, 'Always': 3})\n",
    "\n",
    "# MTRANS: 0 = Public_Transportation, 1 = Walking, 2 = Automobile, 3 = Motorbike, 4 = Bike\n",
    "df['MTRANS'] = df['MTRANS'].map({'Public_Transportation': 0, 'Walking': 1, 'Automobile': 2, 'Motorbike': 3, 'Bike': 4})\n",
    "\n",
    "# Obesity\n",
    "df['Obesity'] = df['Obesity'].map({'Insufficient_Weight': 0, 'Normal_Weight': 1, 'Overweight_Level_I': 2,\n",
    "                                   'Overweight_Level_II': 3, 'Obesity_Type_I': 4, 'Obesity_Type_II': 5,\n",
    "                                   'Obesity_Type_III': 6})\n",
    "\n",
    "# Now df should be all numeric\n",
    "df.head()\n",
    "#print(df['Obesity'].unique())"
   ],
   "id": "b72994f734721b1c",
   "outputs": [
    {
     "name": "stdout",
     "output_type": "stream",
     "text": [
      "df shape:  (2111, 17)\n"
     ]
    },
    {
     "data": {
      "text/plain": [
       "   Gender   Age  Height  Weight  family_history  FAVC  FCVC  NCP  CAEC  SMOKE  \\\n",
       "0       0  21.0    1.62    64.0               1     0   2.0  3.0     1      0   \n",
       "1       0  21.0    1.52    56.0               1     0   3.0  3.0     1      1   \n",
       "2       1  23.0    1.80    77.0               1     0   2.0  3.0     1      0   \n",
       "3       1  27.0    1.80    87.0               0     0   3.0  3.0     1      0   \n",
       "4       1  22.0    1.78    89.8               0     0   2.0  1.0     1      0   \n",
       "\n",
       "   CH2O  SCC  FAF  TUE  CALC  MTRANS  Obesity  \n",
       "0   2.0    0  0.0  1.0     0       0        1  \n",
       "1   3.0    1  3.0  0.0     1       0        1  \n",
       "2   2.0    0  2.0  1.0     2       0        1  \n",
       "3   2.0    0  2.0  0.0     2       1        2  \n",
       "4   2.0    0  0.0  0.0     1       0        3  "
      ],
      "text/html": [
       "<div>\n",
       "<style scoped>\n",
       "    .dataframe tbody tr th:only-of-type {\n",
       "        vertical-align: middle;\n",
       "    }\n",
       "\n",
       "    .dataframe tbody tr th {\n",
       "        vertical-align: top;\n",
       "    }\n",
       "\n",
       "    .dataframe thead th {\n",
       "        text-align: right;\n",
       "    }\n",
       "</style>\n",
       "<table border=\"1\" class=\"dataframe\">\n",
       "  <thead>\n",
       "    <tr style=\"text-align: right;\">\n",
       "      <th></th>\n",
       "      <th>Gender</th>\n",
       "      <th>Age</th>\n",
       "      <th>Height</th>\n",
       "      <th>Weight</th>\n",
       "      <th>family_history</th>\n",
       "      <th>FAVC</th>\n",
       "      <th>FCVC</th>\n",
       "      <th>NCP</th>\n",
       "      <th>CAEC</th>\n",
       "      <th>SMOKE</th>\n",
       "      <th>CH2O</th>\n",
       "      <th>SCC</th>\n",
       "      <th>FAF</th>\n",
       "      <th>TUE</th>\n",
       "      <th>CALC</th>\n",
       "      <th>MTRANS</th>\n",
       "      <th>Obesity</th>\n",
       "    </tr>\n",
       "  </thead>\n",
       "  <tbody>\n",
       "    <tr>\n",
       "      <th>0</th>\n",
       "      <td>0</td>\n",
       "      <td>21.0</td>\n",
       "      <td>1.62</td>\n",
       "      <td>64.0</td>\n",
       "      <td>1</td>\n",
       "      <td>0</td>\n",
       "      <td>2.0</td>\n",
       "      <td>3.0</td>\n",
       "      <td>1</td>\n",
       "      <td>0</td>\n",
       "      <td>2.0</td>\n",
       "      <td>0</td>\n",
       "      <td>0.0</td>\n",
       "      <td>1.0</td>\n",
       "      <td>0</td>\n",
       "      <td>0</td>\n",
       "      <td>1</td>\n",
       "    </tr>\n",
       "    <tr>\n",
       "      <th>1</th>\n",
       "      <td>0</td>\n",
       "      <td>21.0</td>\n",
       "      <td>1.52</td>\n",
       "      <td>56.0</td>\n",
       "      <td>1</td>\n",
       "      <td>0</td>\n",
       "      <td>3.0</td>\n",
       "      <td>3.0</td>\n",
       "      <td>1</td>\n",
       "      <td>1</td>\n",
       "      <td>3.0</td>\n",
       "      <td>1</td>\n",
       "      <td>3.0</td>\n",
       "      <td>0.0</td>\n",
       "      <td>1</td>\n",
       "      <td>0</td>\n",
       "      <td>1</td>\n",
       "    </tr>\n",
       "    <tr>\n",
       "      <th>2</th>\n",
       "      <td>1</td>\n",
       "      <td>23.0</td>\n",
       "      <td>1.80</td>\n",
       "      <td>77.0</td>\n",
       "      <td>1</td>\n",
       "      <td>0</td>\n",
       "      <td>2.0</td>\n",
       "      <td>3.0</td>\n",
       "      <td>1</td>\n",
       "      <td>0</td>\n",
       "      <td>2.0</td>\n",
       "      <td>0</td>\n",
       "      <td>2.0</td>\n",
       "      <td>1.0</td>\n",
       "      <td>2</td>\n",
       "      <td>0</td>\n",
       "      <td>1</td>\n",
       "    </tr>\n",
       "    <tr>\n",
       "      <th>3</th>\n",
       "      <td>1</td>\n",
       "      <td>27.0</td>\n",
       "      <td>1.80</td>\n",
       "      <td>87.0</td>\n",
       "      <td>0</td>\n",
       "      <td>0</td>\n",
       "      <td>3.0</td>\n",
       "      <td>3.0</td>\n",
       "      <td>1</td>\n",
       "      <td>0</td>\n",
       "      <td>2.0</td>\n",
       "      <td>0</td>\n",
       "      <td>2.0</td>\n",
       "      <td>0.0</td>\n",
       "      <td>2</td>\n",
       "      <td>1</td>\n",
       "      <td>2</td>\n",
       "    </tr>\n",
       "    <tr>\n",
       "      <th>4</th>\n",
       "      <td>1</td>\n",
       "      <td>22.0</td>\n",
       "      <td>1.78</td>\n",
       "      <td>89.8</td>\n",
       "      <td>0</td>\n",
       "      <td>0</td>\n",
       "      <td>2.0</td>\n",
       "      <td>1.0</td>\n",
       "      <td>1</td>\n",
       "      <td>0</td>\n",
       "      <td>2.0</td>\n",
       "      <td>0</td>\n",
       "      <td>0.0</td>\n",
       "      <td>0.0</td>\n",
       "      <td>1</td>\n",
       "      <td>0</td>\n",
       "      <td>3</td>\n",
       "    </tr>\n",
       "  </tbody>\n",
       "</table>\n",
       "</div>"
      ]
     },
     "execution_count": 3,
     "metadata": {},
     "output_type": "execute_result"
    }
   ],
   "execution_count": 3
  },
  {
   "metadata": {
    "ExecuteTime": {
     "end_time": "2025-02-24T03:57:05.572953Z",
     "start_time": "2025-02-24T03:57:05.518119Z"
    }
   },
   "cell_type": "code",
   "source": [
    "# Describe the data sets to get an insight\n",
    "print(df.describe())"
   ],
   "id": "3ab314805f475641",
   "outputs": [
    {
     "name": "stdout",
     "output_type": "stream",
     "text": [
      "            Gender          Age       Height       Weight  family_history  \\\n",
      "count  2111.000000  2111.000000  2111.000000  2111.000000     2111.000000   \n",
      "mean      0.505921    24.312600     1.701677    86.586058        0.817622   \n",
      "std       0.500083     6.345968     0.093305    26.191172        0.386247   \n",
      "min       0.000000    14.000000     1.450000    39.000000        0.000000   \n",
      "25%       0.000000    19.947192     1.630000    65.473343        1.000000   \n",
      "50%       1.000000    22.777890     1.700499    83.000000        1.000000   \n",
      "75%       1.000000    26.000000     1.768464   107.430682        1.000000   \n",
      "max       1.000000    61.000000     1.980000   173.000000        1.000000   \n",
      "\n",
      "              FAVC         FCVC          NCP         CAEC        SMOKE  \\\n",
      "count  2111.000000  2111.000000  2111.000000  2111.000000  2111.000000   \n",
      "mean      0.883941     2.419043     2.685628     1.140692     0.020843   \n",
      "std       0.320371     0.533927     0.778039     0.468543     0.142893   \n",
      "min       0.000000     1.000000     1.000000     0.000000     0.000000   \n",
      "25%       1.000000     2.000000     2.658738     1.000000     0.000000   \n",
      "50%       1.000000     2.385502     3.000000     1.000000     0.000000   \n",
      "75%       1.000000     3.000000     3.000000     1.000000     0.000000   \n",
      "max       1.000000     3.000000     4.000000     3.000000     1.000000   \n",
      "\n",
      "              CH2O          SCC          FAF          TUE         CALC  \\\n",
      "count  2111.000000  2111.000000  2111.000000  2111.000000  2111.000000   \n",
      "mean      2.008011     0.045476     1.010298     0.657866     0.731407   \n",
      "std       0.612953     0.208395     0.850592     0.608927     0.515498   \n",
      "min       1.000000     0.000000     0.000000     0.000000     0.000000   \n",
      "25%       1.584812     0.000000     0.124505     0.000000     0.000000   \n",
      "50%       2.000000     0.000000     1.000000     0.625350     1.000000   \n",
      "75%       2.477420     0.000000     1.666678     1.000000     1.000000   \n",
      "max       3.000000     1.000000     3.000000     2.000000     3.000000   \n",
      "\n",
      "            MTRANS      Obesity  \n",
      "count  2111.000000  2111.000000  \n",
      "mean      0.488394     3.112269  \n",
      "std       0.868475     1.985062  \n",
      "min       0.000000     0.000000  \n",
      "25%       0.000000     1.000000  \n",
      "50%       0.000000     3.000000  \n",
      "75%       1.000000     5.000000  \n",
      "max       4.000000     6.000000  \n"
     ]
    }
   ],
   "execution_count": 4
  },
  {
   "metadata": {
    "ExecuteTime": {
     "end_time": "2025-02-24T03:57:09.244474Z",
     "start_time": "2025-02-24T03:57:09.230060Z"
    }
   },
   "cell_type": "code",
   "source": [
    "print(\"df shape: \", df.shape)\n",
    "random.seed(12345)\n",
    "\n",
    "target_column = \"Obesity\"\n",
    "x_data = df[df.columns[:-1]]\n",
    "y_data = df[target_column]\n",
    "\n",
    "num_of_samples = df.shape[0]\n",
    "# training samples: 80% of the samples\n",
    "num_of_training_samples = (int)(num_of_samples * 0.8)\n",
    "num_of_test_samples = num_of_samples - num_of_training_samples\n",
    "x_train, x_test, y_train, y_test = train_test_split(x_data, y_data, test_size=num_of_test_samples)\n",
    "\n",
    "print(\"x_train shape\", x_train.shape)\n",
    "print(\"x_test shape\", x_test.shape)\n",
    "print(\"y_train shape\", y_train.shape)\n",
    "print(\"y_test shape\", y_test.shape)\n"
   ],
   "id": "9ed9f4c5faabc483",
   "outputs": [
    {
     "name": "stdout",
     "output_type": "stream",
     "text": [
      "df shape:  (2111, 17)\n",
      "x_train shape (1688, 16)\n",
      "x_test shape (423, 16)\n",
      "y_train shape (1688,)\n",
      "y_test shape (423,)\n"
     ]
    }
   ],
   "execution_count": 5
  },
  {
   "metadata": {},
   "cell_type": "markdown",
   "source": [
    "Defining the models\n",
    "(eventually we'll add our own models here. These ones are just the ones I took off the internet)"
   ],
   "id": "35dec5276fdc17cf"
  },
  {
   "metadata": {
    "ExecuteTime": {
     "end_time": "2025-02-24T04:33:35.329608Z",
     "start_time": "2025-02-24T04:33:35.311539Z"
    }
   },
   "cell_type": "code",
   "source": [
    "# This is where you add your own models with fine tuning\n",
    "\n",
    "models = []\n",
    "\n",
    "# Samples from the internet, feel free to use these as starting points\n",
    "# models.append(('LR', LogisticRegression(solver='liblinear', multi_class='ovr')))\n",
    "# models.append(('LDA', LinearDiscriminantAnalysis()))\n",
    "# models.append(('KNN', KNeighborsClassifier()))\n",
    "# models.append(('CART', DecisionTreeClassifier()))\n",
    "# models.append(('NB', GaussianNB()))\n",
    "# models.append(('SVM', SVC(gamma='auto')))\n",
    "\n",
    "gammas = ['scale', 'auto']\n",
    "kernels = ['linear', 'poly', 'rbf', 'sigmoid']\n",
    "regularization_params = [0.01, 0.1, 1, 10, 100]\n",
    "for gamma in gammas:\n",
    "    for kernel in kernels:\n",
    "        for regularization_param in regularization_params:\n",
    "            name = \"SVC_\" + gamma + \"_\" + kernel + \"_\" + str(regularization_param)\n",
    "            models.append((name, SVC(gamma=gamma, kernel=kernel, C=regularization_param)))\n",
    "\n",
    "print(models)\n"
   ],
   "id": "8149a157917c359e",
   "outputs": [
    {
     "name": "stdout",
     "output_type": "stream",
     "text": [
      "[('SVC_scale_linear_0.01', SVC(C=0.01, kernel='linear')), ('SVC_scale_linear_0.1', SVC(C=0.1, kernel='linear')), ('SVC_scale_linear_1', SVC(C=1, kernel='linear')), ('SVC_scale_linear_10', SVC(C=10, kernel='linear')), ('SVC_scale_linear_100', SVC(C=100, kernel='linear')), ('SVC_scale_poly_0.01', SVC(C=0.01, kernel='poly')), ('SVC_scale_poly_0.1', SVC(C=0.1, kernel='poly')), ('SVC_scale_poly_1', SVC(C=1, kernel='poly')), ('SVC_scale_poly_10', SVC(C=10, kernel='poly')), ('SVC_scale_poly_100', SVC(C=100, kernel='poly')), ('SVC_scale_rbf_0.01', SVC(C=0.01)), ('SVC_scale_rbf_0.1', SVC(C=0.1)), ('SVC_scale_rbf_1', SVC(C=1)), ('SVC_scale_rbf_10', SVC(C=10)), ('SVC_scale_rbf_100', SVC(C=100)), ('SVC_scale_sigmoid_0.01', SVC(C=0.01, kernel='sigmoid')), ('SVC_scale_sigmoid_0.1', SVC(C=0.1, kernel='sigmoid')), ('SVC_scale_sigmoid_1', SVC(C=1, kernel='sigmoid')), ('SVC_scale_sigmoid_10', SVC(C=10, kernel='sigmoid')), ('SVC_scale_sigmoid_100', SVC(C=100, kernel='sigmoid')), ('SVC_auto_linear_0.01', SVC(C=0.01, gamma='auto', kernel='linear')), ('SVC_auto_linear_0.1', SVC(C=0.1, gamma='auto', kernel='linear')), ('SVC_auto_linear_1', SVC(C=1, gamma='auto', kernel='linear')), ('SVC_auto_linear_10', SVC(C=10, gamma='auto', kernel='linear')), ('SVC_auto_linear_100', SVC(C=100, gamma='auto', kernel='linear')), ('SVC_auto_poly_0.01', SVC(C=0.01, gamma='auto', kernel='poly')), ('SVC_auto_poly_0.1', SVC(C=0.1, gamma='auto', kernel='poly')), ('SVC_auto_poly_1', SVC(C=1, gamma='auto', kernel='poly')), ('SVC_auto_poly_10', SVC(C=10, gamma='auto', kernel='poly')), ('SVC_auto_poly_100', SVC(C=100, gamma='auto', kernel='poly')), ('SVC_auto_rbf_0.01', SVC(C=0.01, gamma='auto')), ('SVC_auto_rbf_0.1', SVC(C=0.1, gamma='auto')), ('SVC_auto_rbf_1', SVC(C=1, gamma='auto')), ('SVC_auto_rbf_10', SVC(C=10, gamma='auto')), ('SVC_auto_rbf_100', SVC(C=100, gamma='auto')), ('SVC_auto_sigmoid_0.01', SVC(C=0.01, gamma='auto', kernel='sigmoid')), ('SVC_auto_sigmoid_0.1', SVC(C=0.1, gamma='auto', kernel='sigmoid')), ('SVC_auto_sigmoid_1', SVC(C=1, gamma='auto', kernel='sigmoid')), ('SVC_auto_sigmoid_10', SVC(C=10, gamma='auto', kernel='sigmoid')), ('SVC_auto_sigmoid_100', SVC(C=100, gamma='auto', kernel='sigmoid'))]\n"
     ]
    }
   ],
   "execution_count": 37
  },
  {
   "metadata": {},
   "cell_type": "code",
   "outputs": [],
   "execution_count": null,
   "source": "# Brendan to add his own models here",
   "id": "28c4dec85a908611"
  },
  {
   "metadata": {},
   "cell_type": "code",
   "outputs": [],
   "execution_count": null,
   "source": "# Joseph to add his own models here",
   "id": "2ebac0cd198f58d5"
  },
  {
   "metadata": {
    "ExecuteTime": {
     "end_time": "2025-02-24T04:47:13.795884Z",
     "start_time": "2025-02-24T04:33:37.433709Z"
    }
   },
   "cell_type": "code",
   "source": [
    "\n",
    "# evaluate each model in turn\n",
    "results = []\n",
    "names = []\n",
    "for name, model in models:\n",
    "    kfold = StratifiedKFold(n_splits=10, random_state=1, shuffle=True)\n",
    "    #cv_results = cross_val_score(model, x_train, y_train, cv=kfold, scoring='accuracy')\n",
    "    scoring = ['accuracy', 'neg_root_mean_squared_error', 'neg_mean_absolute_error']\n",
    "    cv_results = cross_validate(model, x_train, y_train, cv=kfold, scoring=scoring)\n",
    "    results.append(cv_results)\n",
    "    names.append(name)\n",
    "    accuracy = cv_results['test_accuracy'].mean()\n",
    "    neg_RMS = cv_results['test_neg_root_mean_squared_error'].mean()\n",
    "    neg_MAE = cv_results['test_neg_mean_absolute_error'].mean()\n",
    "    print(name + \": Accuracy \" + str(accuracy) + \" --- RMS: \" + str(-neg_RMS) + \" --- MAE: \" + str(-neg_MAE))"
   ],
   "id": "aa4d17a39a0e3d97",
   "outputs": [
    {
     "name": "stdout",
     "output_type": "stream",
     "text": [
      "SVC_scale_linear_0.01: Accuracy 0.7428958861651169 --- RMS: 0.5735735822132544 --- MAE: 0.28139616793462946\n",
      "SVC_scale_linear_0.1: Accuracy 0.8246407438715131 --- RMS: 0.4729267465293708 --- MAE: 0.19195195829811212\n",
      "SVC_scale_linear_1: Accuracy 0.8767645815722738 --- RMS: 0.3805372508405709 --- MAE: 0.13153000845308535\n",
      "SVC_scale_linear_10: Accuracy 0.9502359819667513 --- RMS: 0.23675155694005795 --- MAE: 0.05272612003381234\n",
      "SVC_scale_linear_100: Accuracy 0.9603057199211046 --- RMS: 0.20201051365349693 --- MAE: 0.04028599605522683\n",
      "SVC_scale_poly_0.01: Accuracy 0.4046315863623556 --- RMS: 0.9665240695995674 --- MAE: 0.7067624683009298\n",
      "SVC_scale_poly_0.1: Accuracy 0.49942589461820236 --- RMS: 0.9003389410034313 --- MAE: 0.6012996618765849\n",
      "SVC_scale_poly_1: Accuracy 0.6019230769230769 --- RMS: 0.743521481688994 --- MAE: 0.45021837137221754\n",
      "SVC_scale_poly_10: Accuracy 0.7002430262045647 --- RMS: 0.6223437359680817 --- MAE: 0.32939560439560445\n",
      "SVC_scale_poly_100: Accuracy 0.789687235841082 --- RMS: 0.5409000864408546 --- MAE: 0.23814806987883913\n",
      "SVC_scale_rbf_0.01: Accuracy 0.16706114398422095 --- RMS: 2.1266880602285316 --- MAE: 1.7517716258100873\n",
      "SVC_scale_rbf_0.1: Accuracy 0.4626901944209637 --- RMS: 0.9651433419435049 --- MAE: 0.667670470555086\n",
      "SVC_scale_rbf_1: Accuracy 0.5705515638207946 --- RMS: 0.8090330800070096 --- MAE: 0.5052726120033812\n",
      "SVC_scale_rbf_10: Accuracy 0.6795153564384333 --- RMS: 0.6462022501849154 --- MAE: 0.35307480980557904\n",
      "SVC_scale_rbf_100: Accuracy 0.7985735418427725 --- RMS: 0.5329279349298023 --- MAE: 0.2292723302338687\n",
      "SVC_scale_sigmoid_0.01: Accuracy 0.16706114398422095 --- RMS: 2.176301444584598 --- MAE: 1.7825760777683854\n",
      "SVC_scale_sigmoid_0.1: Accuracy 0.16706114398422095 --- RMS: 2.7063983500714843 --- MAE: 2.0923922231614536\n",
      "SVC_scale_sigmoid_1: Accuracy 0.036143984220907296 --- RMS: 4.04647718332802 --- MAE: 3.7588546069315294\n",
      "SVC_scale_sigmoid_10: Accuracy 0.0355487461256692 --- RMS: 4.144961858489308 --- MAE: 3.866649056072133\n",
      "SVC_scale_sigmoid_100: Accuracy 0.02784587207664131 --- RMS: 4.269947142623943 --- MAE: 3.991670188785574\n",
      "SVC_auto_linear_0.01: Accuracy 0.7428958861651169 --- RMS: 0.5735735822132544 --- MAE: 0.28139616793462946\n",
      "SVC_auto_linear_0.1: Accuracy 0.8246407438715131 --- RMS: 0.4729267465293708 --- MAE: 0.19195195829811212\n",
      "SVC_auto_linear_1: Accuracy 0.8767645815722738 --- RMS: 0.3805372508405709 --- MAE: 0.13153000845308535\n",
      "SVC_auto_linear_10: Accuracy 0.9502359819667513 --- RMS: 0.23675155694005795 --- MAE: 0.05272612003381234\n",
      "SVC_auto_linear_100: Accuracy 0.9603057199211046 --- RMS: 0.20201051365349693 --- MAE: 0.04028599605522683\n",
      "SVC_auto_poly_0.01: Accuracy 0.9472914905607214 --- RMS: 0.24013946551312423 --- MAE: 0.05566708932093547\n",
      "SVC_auto_poly_0.1: Accuracy 0.9514405466328542 --- RMS: 0.23116132037840004 --- MAE: 0.051518033248802476\n",
      "SVC_auto_poly_1: Accuracy 0.9514405466328542 --- RMS: 0.23116132037840004 --- MAE: 0.051518033248802476\n",
      "SVC_auto_poly_10: Accuracy 0.9514405466328542 --- RMS: 0.23116132037840004 --- MAE: 0.051518033248802476\n",
      "SVC_auto_poly_100: Accuracy 0.9514405466328542 --- RMS: 0.23116132037840004 --- MAE: 0.051518033248802476\n",
      "SVC_auto_rbf_0.01: Accuracy 0.16706114398422095 --- RMS: 2.176301444584598 --- MAE: 1.7825760777683854\n",
      "SVC_auto_rbf_0.1: Accuracy 0.7576887855734009 --- RMS: 0.7191793619529232 --- MAE: 0.3228937728937729\n",
      "SVC_auto_rbf_1: Accuracy 0.8874260355029586 --- RMS: 0.4370503083017298 --- MAE: 0.13509087066779374\n",
      "SVC_auto_rbf_10: Accuracy 0.9158812341504647 --- RMS: 0.3966187682361365 --- MAE: 0.10543110735418429\n",
      "SVC_auto_rbf_100: Accuracy 0.9141025641025641 --- RMS: 0.39996316756927275 --- MAE: 0.10720977740208511\n",
      "SVC_auto_sigmoid_0.01: Accuracy 0.16706114398422095 --- RMS: 2.176301444584598 --- MAE: 1.7825760777683854\n",
      "SVC_auto_sigmoid_0.1: Accuracy 0.16706114398422095 --- RMS: 2.176301444584598 --- MAE: 1.7825760777683854\n",
      "SVC_auto_sigmoid_1: Accuracy 0.16706114398422095 --- RMS: 2.176301444584598 --- MAE: 1.7825760777683854\n",
      "SVC_auto_sigmoid_10: Accuracy 0.16706114398422095 --- RMS: 2.176301444584598 --- MAE: 1.7825760777683854\n",
      "SVC_auto_sigmoid_100: Accuracy 0.16706114398422095 --- RMS: 2.176301444584598 --- MAE: 1.7825760777683854\n"
     ]
    }
   ],
   "execution_count": 38
  },
  {
   "metadata": {
    "ExecuteTime": {
     "end_time": "2025-02-24T04:22:14.081415Z",
     "start_time": "2025-02-24T04:22:14.074838Z"
    }
   },
   "cell_type": "code",
   "source": [
    "# Print more analytics here\n",
    "cv_results"
   ],
   "id": "11680ad63334d780",
   "outputs": [
    {
     "data": {
      "text/plain": [
       "{'fit_time': array([0.13671112, 0.16144514, 0.13024282, 0.12184668, 0.12318325,\n",
       "        0.1341939 , 0.14638805, 0.12457585, 0.12372303, 0.13277793]),\n",
       " 'score_time': array([0.00882101, 0.00950003, 0.00777507, 0.00817108, 0.007447  ,\n",
       "        0.00819492, 0.00977206, 0.00785518, 0.00803709, 0.00770402]),\n",
       " 'test_accuracy': array([0.92899408, 0.88757396, 0.85207101, 0.85207101, 0.90532544,\n",
       "        0.85207101, 0.86390533, 0.89349112, 0.86904762, 0.86309524]),\n",
       " 'test_neg_root_mean_squared_error': array([-0.26646936, -0.38461538, -0.40703866, -0.44853476, -0.30769231,\n",
       "        -0.42828957, -0.43514263, -0.32635698, -0.38575837, -0.41547448])}"
      ]
     },
     "execution_count": 24,
     "metadata": {},
     "output_type": "execute_result"
    }
   ],
   "execution_count": 24
  },
  {
   "metadata": {
    "ExecuteTime": {
     "end_time": "2025-02-24T05:41:23.478088Z",
     "start_time": "2025-02-24T05:41:04.956992Z"
    }
   },
   "cell_type": "code",
   "source": [
    "# Choose the best model:\n",
    "best_model_idx = names.index('SVC_auto_poly_0.1')\n",
    "model = models[best_model_idx][1]\n",
    "model.fit(x_train, y_train)\n",
    "predictions = model.predict(x_test)\n",
    "print(accuracy_score(y_test, predictions))\n",
    "print(root_mean_squared_error(y_test, predictions))\n",
    "print(mean_absolute_error(y_test, predictions))\n",
    "print(confusion_matrix(y_test, predictions))\n",
    "print(classification_report(y_test, predictions))\n"
   ],
   "id": "2366d1c0de17021c",
   "outputs": [
    {
     "name": "stdout",
     "output_type": "stream",
     "text": [
      "0.9479905437352246\n",
      "0.2280558183094117\n",
      "0.05200945626477541\n",
      "[[50  0  0  0  0  0  0]\n",
      " [ 6 54  3  0  0  0  0]\n",
      " [ 0  3 59  3  0  0  0]\n",
      " [ 0  0  2 55  2  0  0]\n",
      " [ 0  0  0  2 67  0  0]\n",
      " [ 0  0  0  0  1 56  0]\n",
      " [ 0  0  0  0  0  0 60]]\n",
      "              precision    recall  f1-score   support\n",
      "\n",
      "           0       0.89      1.00      0.94        50\n",
      "           1       0.95      0.86      0.90        63\n",
      "           2       0.92      0.91      0.91        65\n",
      "           3       0.92      0.93      0.92        59\n",
      "           4       0.96      0.97      0.96        69\n",
      "           5       1.00      0.98      0.99        57\n",
      "           6       1.00      1.00      1.00        60\n",
      "\n",
      "    accuracy                           0.95       423\n",
      "   macro avg       0.95      0.95      0.95       423\n",
      "weighted avg       0.95      0.95      0.95       423\n",
      "\n"
     ]
    }
   ],
   "execution_count": 41
  }
 ],
 "metadata": {
  "kernelspec": {
   "display_name": "Python 3",
   "language": "python",
   "name": "python3"
  },
  "language_info": {
   "codemirror_mode": {
    "name": "ipython",
    "version": 2
   },
   "file_extension": ".py",
   "mimetype": "text/x-python",
   "name": "python",
   "nbconvert_exporter": "python",
   "pygments_lexer": "ipython2",
   "version": "2.7.6"
  }
 },
 "nbformat": 4,
 "nbformat_minor": 5
}
